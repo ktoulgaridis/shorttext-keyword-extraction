{
 "cells": [
  {
   "cell_type": "code",
   "execution_count": 2,
   "metadata": {},
   "outputs": [
    {
     "name": "stderr",
     "output_type": "stream",
     "text": [
      "Using TensorFlow backend.\n",
      "/home/kyriakos/anaconda3/envs/kwd_ext/lib/python3.7/site-packages/sklearn/externals/joblib/__init__.py:15: FutureWarning: sklearn.externals.joblib is deprecated in 0.21 and will be removed in 0.23. Please import this functionality directly from joblib, which can be installed with: pip install joblib. If this warning is raised when loading pickled models, you may need to re-serialize those models with scikit-learn 0.21+.\n",
      "  warnings.warn(msg, category=FutureWarning)\n"
     ]
    }
   ],
   "source": [
    "import shorttext\n",
    "\n"
   ]
  },
  {
   "cell_type": "code",
   "execution_count": null,
   "metadata": {},
   "outputs": [],
   "source": [
    "# Will Bring the Dataset in the form tag: {Tokenized Sentences}"
   ]
  },
  {
   "cell_type": "code",
   "execution_count": 58,
   "metadata": {},
   "outputs": [
    {
     "name": "stdout",
     "output_type": "stream",
     "text": [
      "215533\n",
      "24773\n"
     ]
    }
   ],
   "source": [
    "#  DATA PREPROCESSING CELL  #\n",
    "#===========================#\n",
    "\n",
    "import pandas as pd\n",
    "\n",
    "pd.set_option('display.max_colwidth', -1)\n",
    "# Path to Initial Dataset\n",
    "path = './quotes.json'\n",
    "\n",
    "# Import JSON as Pandas Dataframe\n",
    "df = pd.read_json(path, orient='columns')\n",
    "# df.head(5)\n",
    "\n",
    "# Remove list for all useless Tags\n",
    "remove_list = ['attributed-no-source']\n",
    "\n",
    "# Function to Remove Redundant Columns and Tags \n",
    "def curate_data(data):\n",
    "    \n",
    "    data = data.drop(['Author', 'Popularity', 'Category'], axis = 1)\n",
    "    data.drop_duplicates(subset =\"Quote\", keep = 'first', inplace = True) \n",
    "    data['Tags'] = data['Tags'].apply(lambda tags_list: [x for x in tags_list if x not in remove_list and not x.startswith('misattributed')])    \n",
    "    \n",
    "    return data\n",
    "\n",
    "\n",
    "    \n",
    "curated_data = curate_data(df)\n",
    "\n",
    "\n",
    "\n",
    "\n",
    "# Write Data to JSON\n",
    "curated_data.to_json(r'./curated-data.json')\n"
   ]
  },
  {
   "cell_type": "code",
   "execution_count": null,
   "metadata": {},
   "outputs": [],
   "source": [
    "#  TEXT PREPROCESSING CELL  #\n",
    "#===========================#\n",
    "\n",
    "# Sort Dataset by Tag\n",
    "#---------------------\n",
    "\n",
    "# Create flat list of Tags\n",
    "tags = curated_data['Tags'].tolist()\n",
    "flat_tags = [item for sublist in tags for item in sublist]\n",
    "flat_tags = list(set(flat_tags))\n"
   ]
  },
  {
   "cell_type": "code",
   "execution_count": 14,
   "metadata": {},
   "outputs": [
    {
     "name": "stdout",
     "output_type": "stream",
     "text": [
      "{'mathematics': ['linear algebra', 'topology', 'algebra', 'calculus', 'variational calculus', 'functional field', 'real analysis', 'complex analysis', 'differential equation', 'statistics', 'statistical optimization', 'probability', 'stochastic calculus', 'numerical analysis', 'differential geometry'], 'physics': ['renormalization', 'classical mechanics', 'quantum mechanics', 'statistical mechanics', 'functional field', 'path integral', 'quantum field theory', 'electrodynamics', 'condensed matter', 'particle physics', 'topological solitons', 'astrophysics', 'spontaneous symmetry breaking', 'atomic molecular and optical physics', 'quantum chaos'], 'theology': ['divine providence', 'soteriology', 'anthropology', 'pneumatology', 'Christology', 'Holy Trinity', 'eschatology', 'scripture', 'ecclesiology', 'predestination', 'divine degree', 'creedal confessionalism', 'scholasticism', 'prayer', 'eucharist']}\n"
     ]
    }
   ],
   "source": [
    "#  TRAIN DATA LOADING CELL  #\n",
    "#===========================#\n",
    "\n",
    "# Subject Dataset\n",
    "#trainclassdict = shorttext.data.subjectkeywords()\n",
    "\n",
    "\n",
    "# NIH RePORT Dataset\n",
    "#trainclassdict = shorttext.data.nihreports()\n",
    "#print(trainclassdict)\n",
    "\n",
    "# Inaugural Addresses Dataset\n",
    "#trainclassdict = shorttext.data.inaugural()\n",
    "\n",
    "\n",
    "# User Defined Dataset (JSON)\n",
    "#trainclassdict = shorttext.data.retrieve_jsondata_as_dict('./quotes.json')\n",
    "#print(trainclassdict[0])\n",
    "# User Defined Dataset (CSV Heading & at least 2 columns)\n",
    "# trainclassdict = shorttext.data.retrieve_csvdata_as_dict('/path/to/file.csv')\n",
    "\n"
   ]
  },
  {
   "cell_type": "code",
   "execution_count": null,
   "metadata": {},
   "outputs": [],
   "source": [
    "\n",
    "\n",
    "\n",
    "\n"
   ]
  },
  {
   "cell_type": "code",
   "execution_count": null,
   "metadata": {},
   "outputs": [],
   "source": []
  }
 ],
 "metadata": {
  "kernelspec": {
   "display_name": "Python 3",
   "language": "python",
   "name": "python3"
  },
  "language_info": {
   "codemirror_mode": {
    "name": "ipython",
    "version": 3
   },
   "file_extension": ".py",
   "mimetype": "text/x-python",
   "name": "python",
   "nbconvert_exporter": "python",
   "pygments_lexer": "ipython3",
   "version": "3.7.5"
  }
 },
 "nbformat": 4,
 "nbformat_minor": 2
}
